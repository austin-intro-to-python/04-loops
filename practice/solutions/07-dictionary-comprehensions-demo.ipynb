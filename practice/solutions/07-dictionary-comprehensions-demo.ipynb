{
 "cells": [
  {
   "cell_type": "markdown",
   "metadata": {},
   "source": [
    "<img src=\"http://imgur.com/1ZcRyrc.png\" style=\"float: left; margin: 20px; height: 55px\">\n",
    "\n",
    "## List and Dictionary Comprehensions: Demo/Exercise\n",
    "\n",
    "_Author: Kiefer Katovich (SF)_\n",
    "\n",
    "---\n",
    "\n",
    "This codealong covers the essentials of performing list and dictionary comprehensions in Python."
   ]
  },
  {
   "cell_type": "markdown",
   "metadata": {},
   "source": [
    "## Lesson Objectives\n",
    "\n",
    "By the end of the lesson you should be able to \n",
    "\n",
    "- Understand list comprehensions in Python and what they are useful for\n",
    "- Use list comprehensions to efficiently manipulate list data\n",
    "- Use list comprehensions to construct dictionaries\n"
   ]
  },
  {
   "cell_type": "markdown",
   "metadata": {},
   "source": [
    "## Introduction: List Comprehensions\n",
    "\n",
    "Python list comprehensions are a simple and powerful syntax that, once mastered, allow for fast, efficient, and intuitive manipulation of array-like data types.\n",
    "\n",
    "Though list comprehensions may seem confusing at first, they are easy to get used to and once understood make otherwise complex code readable and concise.\n",
    "\n",
    "List comprehensions are essentially replacements for iteration control statements. I will explain why this is the case below, and give the non-list-comprehension alternative code to help you understand what they are doing (and make it clear when they might be better).\n"
   ]
  },
  {
   "cell_type": "code",
   "execution_count": 1,
   "metadata": {
    "collapsed": true
   },
   "outputs": [],
   "source": [
    "import numpy as np\n",
    "import string"
   ]
  },
  {
   "cell_type": "markdown",
   "metadata": {},
   "source": [
    "---\n",
    "\n",
    "### Section 1: Basic list comprehensions\n",
    "\n",
    "##### 1-A) Add 1 to every element in the list."
   ]
  },
  {
   "cell_type": "code",
   "execution_count": 12,
   "metadata": {},
   "outputs": [
    {
     "data": {
      "text/plain": [
       "[14, 15, 16, 17, 18, 19, 20, 21, 22, 23]"
      ]
     },
     "execution_count": 12,
     "metadata": {},
     "output_type": "execute_result"
    }
   ],
   "source": [
    "numbers = [0,1,2,3,4,5,6,7,8,9]\n",
    "# for-loop version:\n",
    "new_nums = []\n",
    "for n in numbers:\n",
    "    new_nums.append(n+14)\n",
    "\n",
    "new_nums"
   ]
  },
  {
   "cell_type": "code",
   "execution_count": 13,
   "metadata": {},
   "outputs": [
    {
     "data": {
      "text/plain": [
       "[14, 15, 16, 17, 18, 19, 20, 21, 22, 23]"
      ]
     },
     "execution_count": 13,
     "metadata": {},
     "output_type": "execute_result"
    }
   ],
   "source": [
    "# list comprehension version\n",
    "lc_nums=[n+14 for n in numbers]\n",
    "lc_nums"
   ]
  },
  {
   "cell_type": "markdown",
   "metadata": {},
   "source": [
    "---\n",
    "\n",
    "### Section 2: List comprehension: Conditional logic\n",
    "\n",
    "##### 2-A) \"Binarize\" `n` so that any value greater than or equal to the mean of `n` is 1, otherwise 0. "
   ]
  },
  {
   "cell_type": "code",
   "execution_count": 14,
   "metadata": {
    "collapsed": true
   },
   "outputs": [],
   "source": [
    "n = [1, 2, 7, 21, 3, 1, 62, 3, 34, 12, 73, 44, 12, 11, 9]"
   ]
  },
  {
   "cell_type": "code",
   "execution_count": 21,
   "metadata": {},
   "outputs": [
    {
     "name": "stdout",
     "output_type": "stream",
     "text": [
      "19.6666666667\n"
     ]
    },
    {
     "data": {
      "text/plain": [
       "[0, 0, 0, 1, 0, 0, 1, 0, 1, 0, 1, 1, 0, 0, 0]"
      ]
     },
     "execution_count": 21,
     "metadata": {},
     "output_type": "execute_result"
    }
   ],
   "source": [
    "# for loop\n",
    "new_n=[]\n",
    "mean_val = np.mean(n)\n",
    "print(mean_val)\n",
    "for num in n:\n",
    "    if num >= mean_val:\n",
    "        new_n.append(1)\n",
    "    else:\n",
    "        new_n.append(0)\n",
    "new_n"
   ]
  },
  {
   "cell_type": "code",
   "execution_count": 26,
   "metadata": {},
   "outputs": [
    {
     "data": {
      "text/plain": [
       "0"
      ]
     },
     "execution_count": 26,
     "metadata": {},
     "output_type": "execute_result"
    }
   ],
   "source": [
    "a =2\n",
    "b = 1 if a >= mean_val else 0 # conditional assignment\n",
    "b"
   ]
  },
  {
   "cell_type": "code",
   "execution_count": 28,
   "metadata": {},
   "outputs": [
    {
     "data": {
      "text/plain": [
       "0"
      ]
     },
     "execution_count": 28,
     "metadata": {},
     "output_type": "execute_result"
    }
   ],
   "source": [
    "if a >= mean_val:\n",
    "    b =1\n",
    "else:\n",
    "    b =0\n",
    "b"
   ]
  },
  {
   "cell_type": "markdown",
   "metadata": {},
   "source": [
    "To do this as a list comprehension you will need _conditional assigment_.  To practice, create a variable named `big` that is equal to 1 if the list has more than 20 elements, otherwise set it equal to 0."
   ]
  },
  {
   "cell_type": "code",
   "execution_count": 30,
   "metadata": {},
   "outputs": [
    {
     "data": {
      "text/plain": [
       "[0, 0, 0, 1, 0, 0, 1, 0, 1, 0, 1, 1, 0, 0, 0]"
      ]
     },
     "execution_count": 30,
     "metadata": {},
     "output_type": "execute_result"
    }
   ],
   "source": [
    "[1 if num>=mean_val else 0 for num in n]"
   ]
  },
  {
   "cell_type": "code",
   "execution_count": null,
   "metadata": {
    "collapsed": true
   },
   "outputs": [],
   "source": []
  },
  {
   "cell_type": "code",
   "execution_count": 6,
   "metadata": {
    "collapsed": true
   },
   "outputs": [],
   "source": [
    "# list comprehension"
   ]
  },
  {
   "cell_type": "markdown",
   "metadata": {},
   "source": [
    "##### 2-B) Swap 1s to 0s and 0s to 1s. If the element is neither a 0 nor 1, make it `None`."
   ]
  },
  {
   "cell_type": "code",
   "execution_count": 33,
   "metadata": {
    "collapsed": true
   },
   "outputs": [],
   "source": [
    "n = [0, 1, 0, 1, 2, 3, 5, 2, 1, 0]"
   ]
  },
  {
   "cell_type": "code",
   "execution_count": 35,
   "metadata": {},
   "outputs": [
    {
     "data": {
      "text/plain": [
       "[1, 0, 1, 0, None, None, None, None, 0, 1]"
      ]
     },
     "execution_count": 35,
     "metadata": {},
     "output_type": "execute_result"
    }
   ],
   "source": [
    "# for loop\n",
    "something = []\n",
    "for num in n:\n",
    "    if num == 1:\n",
    "        something.append(0)\n",
    "    elif num == 0:\n",
    "        something.append(1)\n",
    "    else:\n",
    "        something.append(None)\n",
    "something"
   ]
  },
  {
   "cell_type": "code",
   "execution_count": 41,
   "metadata": {},
   "outputs": [
    {
     "data": {
      "text/plain": [
       "[1, 0, 1, 0, None, None, None, None, 0, 1]"
      ]
     },
     "execution_count": 41,
     "metadata": {},
     "output_type": "execute_result"
    }
   ],
   "source": [
    "# list comprehension\n",
    "lc_new = [\n",
    "    1 if num == 0\n",
    "    else (0 if num==1 else None)\n",
    "    for num in n\n",
    "]\n",
    "lc_new"
   ]
  },
  {
   "cell_type": "markdown",
   "metadata": {},
   "source": [
    "---\n",
    "\n",
    "### Section 3: Nested list comprehensions\n",
    "\n",
    "##### 3-A) Get the square and square root of all non-negative numbers in the list."
   ]
  },
  {
   "cell_type": "code",
   "execution_count": 43,
   "metadata": {
    "collapsed": true
   },
   "outputs": [],
   "source": [
    "n = [0, 1, 50, -23, -1, 75, -3]"
   ]
  },
  {
   "cell_type": "code",
   "execution_count": 44,
   "metadata": {},
   "outputs": [
    {
     "name": "stdout",
     "output_type": "stream",
     "text": [
      "25\n",
      "2.2360679775\n"
     ]
    }
   ],
   "source": [
    "a = 5\n",
    "print(a**2)\n",
    "print(np.sqrt(5))"
   ]
  },
  {
   "cell_type": "code",
   "execution_count": 45,
   "metadata": {},
   "outputs": [
    {
     "name": "stdout",
     "output_type": "stream",
     "text": [
      "[(0.0, 0), (1.0, 1), (7.0710678118654755, 2500), (8.6602540378443873, 5625)]\n"
     ]
    }
   ],
   "source": [
    "# for loop\n",
    "new_n = []\n",
    "for num in n:\n",
    "    if num>=0:\n",
    "        new_n.append((np.sqrt(num), num**2))\n",
    "        \n",
    "print(new_n)"
   ]
  },
  {
   "cell_type": "code",
   "execution_count": 46,
   "metadata": {},
   "outputs": [
    {
     "data": {
      "text/plain": [
       "[(0.0, 0), (1.0, 1), (7.0710678118654755, 2500), (8.6602540378443873, 5625)]"
      ]
     },
     "execution_count": 46,
     "metadata": {},
     "output_type": "execute_result"
    }
   ],
   "source": [
    "# list comprehension\n",
    "[(np.sqrt(num), num**2) for num in n if num >= 0]"
   ]
  },
  {
   "cell_type": "markdown",
   "metadata": {},
   "source": [
    "---\n",
    "\n",
    "### Section 4: Functions in list comprehensions\n",
    "\n",
    "##### 4-A) Combine elements of these two lists item by item into list pairs."
   ]
  },
  {
   "cell_type": "code",
   "execution_count": 47,
   "metadata": {
    "collapsed": true
   },
   "outputs": [],
   "source": [
    "a = ['a','b','c','d']\n",
    "z = ['z','y','x','w']"
   ]
  },
  {
   "cell_type": "code",
   "execution_count": 51,
   "metadata": {},
   "outputs": [
    {
     "name": "stdout",
     "output_type": "stream",
     "text": [
      "0 a z\n",
      "1 b y\n",
      "2 c x\n",
      "3 d w\n"
     ]
    },
    {
     "data": {
      "text/plain": [
       "[['a', 'z'], ['b', 'y'], ['c', 'x'], ['d', 'w']]"
      ]
     },
     "execution_count": 51,
     "metadata": {},
     "output_type": "execute_result"
    }
   ],
   "source": [
    "# for loop\n",
    "new_list = []\n",
    "for index in range(len(a)):\n",
    "    print(index, a[index], z[index])\n",
    "    new_list.append([a[index], z[index]])\n",
    "new_list"
   ]
  },
  {
   "cell_type": "code",
   "execution_count": 58,
   "metadata": {},
   "outputs": [
    {
     "name": "stdout",
     "output_type": "stream",
     "text": [
      "<zip object at 0x10aa1ef48>\n",
      "('a', 'z')\n",
      "('b', 'y')\n",
      "('c', 'x')\n",
      "('d', 'w')\n"
     ]
    }
   ],
   "source": [
    "# zip\n",
    "print(zip(a,z))\n",
    "for pair in zip(a,z):\n",
    "    print(pair)"
   ]
  },
  {
   "cell_type": "code",
   "execution_count": 60,
   "metadata": {},
   "outputs": [
    {
     "data": {
      "text/plain": [
       "[('a', 'z'), ('b', 'y'), ('c', 'x'), ('d', 'w')]"
      ]
     },
     "execution_count": 60,
     "metadata": {},
     "output_type": "execute_result"
    }
   ],
   "source": [
    "[pair for pair in zip(a,z)]"
   ]
  },
  {
   "cell_type": "code",
   "execution_count": 61,
   "metadata": {},
   "outputs": [
    {
     "data": {
      "text/plain": [
       "[['a', 'z'], ['b', 'y'], ['c', 'x'], ['d', 'w']]"
      ]
     },
     "execution_count": 61,
     "metadata": {},
     "output_type": "execute_result"
    }
   ],
   "source": [
    "new_list2 = [list(pair) for pair in zip(a,z)]\n",
    "new_list2"
   ]
  },
  {
   "cell_type": "code",
   "execution_count": 15,
   "metadata": {
    "collapsed": true
   },
   "outputs": [],
   "source": [
    "# list comprehension version:"
   ]
  },
  {
   "cell_type": "markdown",
   "metadata": {},
   "source": [
    "##### 4-B) Pair each index and element in this list into list pairs."
   ]
  },
  {
   "cell_type": "code",
   "execution_count": 68,
   "metadata": {},
   "outputs": [
    {
     "name": "stdout",
     "output_type": "stream",
     "text": [
      "(0, 'a')\n",
      "(1, 'b')\n",
      "(2, 'c')\n",
      "(3, 'd')\n"
     ]
    }
   ],
   "source": [
    "a = ['a','b','c','d']\n",
    "x=enumerate(a)\n",
    "for q in x:\n",
    "    print(q)"
   ]
  },
  {
   "cell_type": "code",
   "execution_count": 81,
   "metadata": {},
   "outputs": [
    {
     "data": {
      "text/plain": [
       "[(0, 'a'), (1, 'b'), (2, 'c'), (3, 'd')]"
      ]
     },
     "execution_count": 81,
     "metadata": {},
     "output_type": "execute_result"
    }
   ],
   "source": [
    "# list comprehension\n",
    "paired = [(i, ch) for i, ch in enumerate(a)]\n",
    "# I want both the character and the index\n",
    "paired"
   ]
  },
  {
   "cell_type": "code",
   "execution_count": 82,
   "metadata": {},
   "outputs": [
    {
     "data": {
      "text/plain": [
       "[[0, 'a'], [1, 'b'], [2, 'c'], [3, 'd']]"
      ]
     },
     "execution_count": 82,
     "metadata": {},
     "output_type": "execute_result"
    }
   ],
   "source": [
    "paired = [[i, ch] for i, ch in enumerate(a)]\n",
    "paired"
   ]
  },
  {
   "cell_type": "markdown",
   "metadata": {},
   "source": [
    "##### 4-C)  Multiply each element in `list_one` by its index and divide by its counterpart in `list_two`."
   ]
  },
  {
   "cell_type": "code",
   "execution_count": 79,
   "metadata": {
    "collapsed": true
   },
   "outputs": [],
   "source": [
    "list_one = [10, 15, 20, 25, 40]\n",
    "list_two = [1, 2, 3, 4, 5]"
   ]
  },
  {
   "cell_type": "code",
   "execution_count": 80,
   "metadata": {},
   "outputs": [
    {
     "data": {
      "text/plain": [
       "[0.0, 7.5, 13.333333333333334, 18.75, 32.0]"
      ]
     },
     "execution_count": 80,
     "metadata": {},
     "output_type": "execute_result"
    }
   ],
   "source": [
    "# list comprehension\n",
    "[i*first/second for i, (first,second) in \n",
    " enumerate(zip(list_one, list_two))]"
   ]
  },
  {
   "cell_type": "markdown",
   "metadata": {},
   "source": [
    "---\n",
    "\n",
    "### Section 5: Nested list comprehensions\n",
    "\n",
    "##### 5-A) Create all the alphabet \"syllables\" defined as consonant-vowel pairs in a flattened list [use `for` loop iteration]."
   ]
  },
  {
   "cell_type": "code",
   "execution_count": 94,
   "metadata": {},
   "outputs": [
    {
     "name": "stdout",
     "output_type": "stream",
     "text": [
      "abcdefghijklmnopqrstuvwxyz\n"
     ]
    }
   ],
   "source": [
    "import string\n",
    "vowels = ['a', 'e', 'i', 'o', 'u']\n",
    "alphabet = string.ascii_lowercase\n",
    "print(alphabet)\n",
    "\n",
    "# for example:\n",
    "# ['ba','be','bi','bo','bu','ca','ce','ci', ...etc]"
   ]
  },
  {
   "cell_type": "code",
   "execution_count": 99,
   "metadata": {},
   "outputs": [],
   "source": [
    "consonants = [ch for ch in alphabet if ch not in vowels]\n",
    "finished_list=[]\n",
    "for vowel in vowels:\n",
    "    for consonant in consonants:\n",
    "        finished_list.append(consonant+vowel)\n"
   ]
  },
  {
   "cell_type": "code",
   "execution_count": null,
   "metadata": {
    "collapsed": true
   },
   "outputs": [],
   "source": []
  },
  {
   "cell_type": "code",
   "execution_count": 93,
   "metadata": {},
   "outputs": [
    {
     "data": {
      "text/plain": [
       "[('b', ['a', 'e', 'i', 'o', 'u']),\n",
       " ('c', ['a', 'e', 'i', 'o', 'u']),\n",
       " ('d', ['a', 'e', 'i', 'o', 'u']),\n",
       " ('f', ['a', 'e', 'i', 'o', 'u']),\n",
       " ('g', ['a', 'e', 'i', 'o', 'u']),\n",
       " ('h', ['a', 'e', 'i', 'o', 'u']),\n",
       " ('j', ['a', 'e', 'i', 'o', 'u']),\n",
       " ('k', ['a', 'e', 'i', 'o', 'u']),\n",
       " ('l', ['a', 'e', 'i', 'o', 'u']),\n",
       " ('m', ['a', 'e', 'i', 'o', 'u']),\n",
       " ('n', ['a', 'e', 'i', 'o', 'u']),\n",
       " ('p', ['a', 'e', 'i', 'o', 'u']),\n",
       " ('q', ['a', 'e', 'i', 'o', 'u']),\n",
       " ('r', ['a', 'e', 'i', 'o', 'u']),\n",
       " ('s', ['a', 'e', 'i', 'o', 'u']),\n",
       " ('t', ['a', 'e', 'i', 'o', 'u']),\n",
       " ('v', ['a', 'e', 'i', 'o', 'u']),\n",
       " ('w', ['a', 'e', 'i', 'o', 'u']),\n",
       " ('x', ['a', 'e', 'i', 'o', 'u']),\n",
       " ('y', ['a', 'e', 'i', 'o', 'u']),\n",
       " ('z', ['a', 'e', 'i', 'o', 'u'])]"
      ]
     },
     "execution_count": 93,
     "metadata": {},
     "output_type": "execute_result"
    }
   ],
   "source": [
    "finished_list=[]\n",
    "[(letter,vowels) for letter in alphabet if ((letter in vowels) == False)]\n"
   ]
  },
  {
   "cell_type": "markdown",
   "metadata": {},
   "source": [
    "##### 5-B) Create all the alphabet \"syllables\" defined as consonant-vowel pairs in a flattened list [using list comprehension]."
   ]
  },
  {
   "cell_type": "code",
   "execution_count": 103,
   "metadata": {},
   "outputs": [
    {
     "data": {
      "text/plain": [
       "['ba', 'ca', 'da', 'fa', 'ga']"
      ]
     },
     "execution_count": 103,
     "metadata": {},
     "output_type": "execute_result"
    }
   ],
   "source": [
    "syllables = [consonant+vowel for vowel in vowels for consonant in consonants]\n",
    "syllables[:5]"
   ]
  },
  {
   "cell_type": "code",
   "execution_count": 111,
   "metadata": {},
   "outputs": [
    {
     "ename": "SyntaxError",
     "evalue": "invalid syntax (<ipython-input-111-5675938333c0>, line 1)",
     "output_type": "error",
     "traceback": [
      "\u001b[0;36m  File \u001b[0;32m\"<ipython-input-111-5675938333c0>\"\u001b[0;36m, line \u001b[0;32m1\u001b[0m\n\u001b[0;31m    ---\u001b[0m\n\u001b[0m       ^\u001b[0m\n\u001b[0;31mSyntaxError\u001b[0m\u001b[0;31m:\u001b[0m invalid syntax\n"
     ]
    }
   ],
   "source": [
    "---\n",
    "\n",
    "### Section 6: Dictionary comprehensions\n",
    "\n",
    "##### 6-A) Make a dictionary in which keys are animals and values are lists, storing the [ASCII](http://www.asciitable.com/) number value of each character in the key.\n",
    "\n",
    "#Hint: Use the **`ord()`** function to convert characters into their ASCII values."
   ]
  },
  {
   "cell_type": "code",
   "execution_count": 114,
   "metadata": {},
   "outputs": [
    {
     "data": {
      "text/plain": [
       "{'a': 97, 'b': 98, 'c': 99}"
      ]
     },
     "execution_count": 114,
     "metadata": {},
     "output_type": "execute_result"
    }
   ],
   "source": [
    "alpha = ['a', 'b', 'c']\n",
    "d = {letter: ord(letter) for letter in alpha}\n",
    "d"
   ]
  },
  {
   "cell_type": "code",
   "execution_count": null,
   "metadata": {
    "collapsed": true
   },
   "outputs": [],
   "source": []
  },
  {
   "cell_type": "code",
   "execution_count": 107,
   "metadata": {
    "collapsed": true
   },
   "outputs": [],
   "source": [
    "keys = ['dog', 'cat', 'bird', 'horse']"
   ]
  },
  {
   "cell_type": "code",
   "execution_count": 117,
   "metadata": {},
   "outputs": [
    {
     "data": {
      "text/plain": [
       "{'bird': [98, 105, 114, 100],\n",
       " 'cat': [99, 97, 116],\n",
       " 'dog': [100, 111, 103],\n",
       " 'horse': [104, 111, 114, 115, 101]}"
      ]
     },
     "execution_count": 117,
     "metadata": {},
     "output_type": "execute_result"
    }
   ],
   "source": [
    "d = {k:[ord(x) for x in k] for k in keys}\n",
    "d"
   ]
  },
  {
   "cell_type": "markdown",
   "metadata": {},
   "source": [
    "##### 6-B) Create a dictionary with these column names and the corresponding column values."
   ]
  },
  {
   "cell_type": "code",
   "execution_count": 22,
   "metadata": {
    "collapsed": true
   },
   "outputs": [],
   "source": [
    "column_names = ['height','weight','is_male']\n",
    "values = [[62, 54, 60, 50], [180, 120, 200, 100], [True, False, True, False]]"
   ]
  },
  {
   "cell_type": "code",
   "execution_count": 118,
   "metadata": {
    "collapsed": true
   },
   "outputs": [],
   "source": [
    "column_names = ['height','weight','is_male']\n",
    "\n",
    "\n",
    "height = [62, 54, 60, 50]\n",
    "weight = [180, 120, 200, 100]\n",
    "is_male = [True, False, True, False]\n",
    "values = [height, weight, is_male]"
   ]
  },
  {
   "cell_type": "code",
   "execution_count": 119,
   "metadata": {},
   "outputs": [
    {
     "name": "stdout",
     "output_type": "stream",
     "text": [
      "{'height': [62, 54, 60, 50], 'weight': [180, 120, 200, 100], 'is_male': [True, False, True, False]}\n"
     ]
    }
   ],
   "source": [
    "d = {k:v for k, v in zip(column_names, values)}\n",
    "print(d)"
   ]
  },
  {
   "cell_type": "code",
   "execution_count": null,
   "metadata": {
    "collapsed": true
   },
   "outputs": [],
   "source": []
  }
 ],
 "metadata": {
  "kernelspec": {
   "display_name": "Python 3",
   "language": "python",
   "name": "python3"
  },
  "language_info": {
   "codemirror_mode": {
    "name": "ipython",
    "version": 3
   },
   "file_extension": ".py",
   "mimetype": "text/x-python",
   "name": "python",
   "nbconvert_exporter": "python",
   "pygments_lexer": "ipython3",
   "version": "3.6.6"
  }
 },
 "nbformat": 4,
 "nbformat_minor": 1
}
